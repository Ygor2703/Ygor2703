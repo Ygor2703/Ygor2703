{
  "nbformat": 4,
  "nbformat_minor": 0,
  "metadata": {
    "colab": {
      "provenance": [],
      "authorship_tag": "ABX9TyNl+V97nSNoHlBdqihmVSYu",
      "include_colab_link": true
    },
    "kernelspec": {
      "name": "python3",
      "display_name": "Python 3"
    },
    "language_info": {
      "name": "python"
    }
  },
  "cells": [
    {
      "cell_type": "markdown",
      "metadata": {
        "id": "view-in-github",
        "colab_type": "text"
      },
      "source": [
        "<a href=\"https://colab.research.google.com/github/Ygor2703/Ygor2703/blob/main/Untitled1.ipynb\" target=\"_parent\"><img src=\"https://colab.research.google.com/assets/colab-badge.svg\" alt=\"Open In Colab\"/></a>"
      ]
    },
    {
      "cell_type": "markdown",
      "source": [],
      "metadata": {
        "id": "yiGkTOQy-mPV"
      }
    },
    {
      "cell_type": "markdown",
      "source": [],
      "metadata": {
        "id": "5ajpjO80Yowe"
      }
    },
    {
      "cell_type": "code",
      "source": [
        "# Início do programa\n",
        "\n",
        "# Ler um valor inteiro do usuário\n",
        "x = int(input(\"Digite um valor inteiro: \"))\n",
        "\n",
        "# Calcular o resto da divisão de x por 3\n",
        "r = x % 3\n",
        "\n",
        "# Verificar se o resto é zero\n",
        "if r == 0:\n",
        "    # Se r é zero, x é múltiplo de 3\n",
        "    print(\"Múltiplo\")\n",
        "else:\n",
        "    # Se r não é zero, x não é múltiplo de 3\n",
        "    print(\"Não múltiplo\")\n",
        "\n",
        "# Fim do programa\n"
      ],
      "metadata": {
        "id": "YrceXxHpbgXJ",
        "colab": {
          "base_uri": "https://localhost:8080/"
        },
        "outputId": "f9f8a97c-0e29-4fec-d6be-0a791b0cc785"
      },
      "execution_count": 6,
      "outputs": [
        {
          "output_type": "stream",
          "name": "stdout",
          "text": [
            "Digite um valor inteiro: 9\n",
            "Múltiplo\n"
          ]
        }
      ]
    }
  ]
}